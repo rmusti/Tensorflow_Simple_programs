{
  "nbformat": 4,
  "nbformat_minor": 0,
  "metadata": {
    "colab": {
      "name": "Tensorflow_Mean_Using_Placeholder.ipynb",
      "version": "0.3.2",
      "provenance": [],
      "collapsed_sections": [],
      "include_colab_link": true
    },
    "kernelspec": {
      "name": "python3",
      "display_name": "Python 3"
    }
  },
  "cells": [
    {
      "cell_type": "markdown",
      "metadata": {
        "id": "view-in-github",
        "colab_type": "text"
      },
      "source": [
        "<a href=\"https://colab.research.google.com/github/rmusti/Tensorflow_Simple_programs/blob/master/Tensorflow_Mean_Using_Placeholder.ipynb\" target=\"_parent\"><img src=\"https://colab.research.google.com/assets/colab-badge.svg\" alt=\"Open In Colab\"/></a>"
      ]
    },
    {
      "metadata": {
        "id": "4R05kw1FUtdF",
        "colab_type": "code",
        "colab": {}
      },
      "cell_type": "code",
      "source": [
        "\n",
        "import tensorflow as tf\n",
        "import numpy as np\n",
        "\n",
        "g = tf.Graph()\n",
        "\n",
        "\n",
        "with g.as_default():\n",
        "  tf_a = tf.placeholder(\"float\" , shape= [None , 2], name = 'tf_a')\n",
        "  \n",
        "  \n",
        "  x_mean = tf.reduce_mean(tf_a, axis = 0 , name = 'mean')\n",
        "  \n",
        "  \n",
        "  \n",
        "  \n",
        "  with tf.Session(graph = g) as sess:\n",
        "    np.random.seed(123)\n",
        "    a = np.random.uniform(size = (2,2))*10\n",
        "    print( \"The Array:\", a)\n",
        "    print( \"The shape of Array:\", a.shape)\n",
        "    print('Mean of Array:' , sess.run(x_mean , feed_dict = {tf_a : a}))\n",
        "    \n",
        "    b = np.random.uniform(size = (5,2))*10\n",
        "    print( \"The Array:\", b)\n",
        "    print( \"The shape of Array:\", b.shape)\n",
        "    print('Mean of Array:' , sess.run(x_mean , feed_dict = {tf_a : b}))\n",
        "  \n",
        "  \n",
        " \n",
        "\n"
      ],
      "execution_count": 0,
      "outputs": []
    },
    {
      "metadata": {
        "id": "0OWwyhCF-6PQ",
        "colab_type": "code",
        "colab": {}
      },
      "cell_type": "code",
      "source": [
        "import tensorflow as tf\n",
        "import numpy as np\n",
        "\n",
        "g = tf.Graph()\n",
        "\n",
        "\n",
        "with g.as_default():\n",
        "  a = tf.constant(np.pi)\n",
        "  b = tf.constant([1,2,3])\n",
        "  c = tf.constant([[1,2],[2,3]])\n",
        "\n",
        "\n",
        "  ra = tf.rank(a)\n",
        "  rb = tf.rank(b)\n",
        "  rc = tf.rank(c)\n",
        "\n",
        "  sa = a.get_shape()\n",
        "  sb = b.get_shape()\n",
        "  sc = c.get_shape()\n",
        "\n",
        "\n",
        "  print(\"Shape\" , sa,sb,sc)\n",
        "  \n",
        "with tf.Session(graph = g) as sess:\n",
        "  print('Tensor:' , a.eval() ,b.eval(),c.eval())\n",
        "\n",
        "  print('Rank:' , ra.eval(),rb.eval(),rc.eval())"
      ],
      "execution_count": 0,
      "outputs": []
    },
    {
      "metadata": {
        "id": "VCzw0zax_BVW",
        "colab_type": "code",
        "colab": {}
      },
      "cell_type": "code",
      "source": [
        "import tensorflow as tf\n",
        "import numpy as np\n",
        "\n",
        "g = tf.Graph()\n",
        "\n",
        "\n",
        "with g.as_default():\n",
        "  a = tf.constant(1 , name = 'a')\n",
        "  b = tf.constant(2 , name = 'b')\n",
        "  c = tf.constant(3 , name = 'c')\n",
        "  \n",
        "  z = a*b + c\n",
        "  \n",
        " \n",
        "with tf.Session(graph = g) as sess:\n",
        "\n",
        "  print('Result:' , sess.run(z))\n"
      ],
      "execution_count": 0,
      "outputs": []
    },
    {
      "metadata": {
        "id": "qLc9DnNc_DF6",
        "colab_type": "code",
        "colab": {}
      },
      "cell_type": "code",
      "source": [
        "import numpy as np\n",
        "\n",
        "g = tf.Graph()\n",
        "\n",
        "\n",
        "with g.as_default():\n",
        "  tf_a = tf.placeholder(\"float\" , shape= [None , 2], name = 'tf_a')\n",
        "  \n",
        "  \n",
        "  x_mean = tf.reduce_mean(tf_a, axis = 0 , name = 'mean')\n",
        "  \n",
        "  \n",
        "  \n",
        "  \n",
        "  with tf.Session(graph = g) as sess:\n",
        "    np.random.seed(123)\n",
        "    a = np.random.uniform(size = (2,2))*10\n",
        "    print( \"The Array:\", a)\n",
        "    print( \"The shape of Array:\", a.shape)\n",
        "    print('Mean of Array:' , sess.run(x_mean , feed_dict = {tf_a : a}))\n",
        "    \n",
        "    b = np.random.uniform(size = (5,2))*10\n",
        "    print( \"The Array:\", b)\n",
        "    print( \"The shape of Array:\", b.shape)\n",
        "    print('Mean of Array:' , sess.run(x_mean , feed_dict = {tf_a : b}))\n"
      ],
      "execution_count": 0,
      "outputs": []
    },
    {
      "metadata": {
        "id": "zuUhQ5vq_JbJ",
        "colab_type": "code",
        "colab": {}
      },
      "cell_type": "code",
      "source": [
        "import tensorflow as tf\n",
        "import numpy as np\n",
        "\n",
        "g = tf.Graph()\n",
        "\n",
        "\n",
        "with g.as_default():\n",
        "  tf_a = tf.placeholder(\"float\" , shape= [], name = 'tf_a')\n",
        "  tf_b = tf.placeholder(\"float\"  , shape= [], name = 'tf_b')\n",
        "  tf_c = tf.placeholder(\"float\"   , shape= [], name = 'tf_c')\n",
        "  \n",
        "  r1 = tf_a*tf_b + tf_c\n",
        "  r2 = 2*tf_a\n",
        "  z = 4*tf_c + r2\n",
        "  \n",
        "  with tf.Session(graph = g) as sess:\n",
        "    feed = { tf_a : 3 , tf_b :2 , tf_c : 4 }\n",
        "    print('Result:' , sess.run(z , feed_dict = feed))\n"
      ],
      "execution_count": 0,
      "outputs": []
    },
    {
      "metadata": {
        "id": "ymAaq_4z_MG4",
        "colab_type": "code",
        "colab": {}
      },
      "cell_type": "code",
      "source": [
        "import tensorflow as tf\n",
        "import numpy as np\n",
        "\n",
        "g = tf.Graph()\n",
        "\n",
        "\n",
        "with g.as_default():\n",
        "  tf_a = tf.placeholder(\"float\" , shape= [None , 2], name = 'tf_a')\n",
        "  \n",
        "  \n",
        "  x_mean = tf.reduce_mean(tf_a, axis = 0 , name = 'mean')\n",
        "  \n",
        "  \n",
        "  \n",
        "  \n",
        "  with tf.Session(graph = g) as sess:\n",
        "    np.random.seed(123)\n",
        "    a = np.random.uniform(size = (2,2))*10\n",
        "    print( \"The Array:\", a)\n",
        "    print( \"The shape of Array:\", a.shape)\n",
        "    print('Mean of Array:' , sess.run(x_mean , feed_dict = {tf_a : a}))\n",
        "    \n",
        "    b = np.random.uniform(size = (5,2))*10\n",
        "    print( \"The Array:\", b)\n",
        "    print( \"The shape of Array:\", b.shape)\n",
        "    print('Mean of Array:' , sess.run(x_mean , feed_dict = {tf_a : b}))\n",
        "  "
      ],
      "execution_count": 0,
      "outputs": []
    }
  ]
}
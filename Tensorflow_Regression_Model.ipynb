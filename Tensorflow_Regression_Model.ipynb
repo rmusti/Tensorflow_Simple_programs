{
  "nbformat": 4,
  "nbformat_minor": 0,
  "metadata": {
    "colab": {
      "name": "Tensorflow_Regression Model.ipynb",
      "version": "0.3.2",
      "provenance": [],
      "collapsed_sections": [],
      "include_colab_link": true
    },
    "kernelspec": {
      "name": "python3",
      "display_name": "Python 3"
    }
  },
  "cells": [
    {
      "cell_type": "markdown",
      "metadata": {
        "id": "view-in-github",
        "colab_type": "text"
      },
      "source": [
        "<a href=\"https://colab.research.google.com/github/rmusti/Tensorflow_Simple_programs/blob/master/Tensorflow_Regression_Model.ipynb\" target=\"_parent\"><img src=\"https://colab.research.google.com/assets/colab-badge.svg\" alt=\"Open In Colab\"/></a>"
      ]
    },
    {
      "metadata": {
        "id": "x7urOh-Xqqdw",
        "colab_type": "text"
      },
      "cell_type": "markdown",
      "source": [
        "\n",
        "# prediction using the regression model \n",
        "1.   Input x: tf_x defined as a placeholder\n",
        "2.   Input y: tf_y defined as a placeholder'\n",
        "3.   Model parameter w: weight defined as a variable\n",
        "4.   Model parameter b: bias defined as a variable\n",
        "5.  Model output : y_hat returned by the TensorFlow operations to compute the\n",
        "\n",
        "\n",
        "\n",
        "\n",
        "\n",
        "\n",
        "\n",
        "\n",
        "\n",
        "\n",
        "\n",
        "\n"
      ]
    },
    {
      "metadata": {
        "id": "rJAZjCbsrUzO",
        "colab_type": "code",
        "colab": {}
      },
      "cell_type": "code",
      "source": [
        "import tensorflow as tf\n",
        "import numpy as np\n",
        "\n",
        "g = tf.Graph()\n",
        "\n",
        "with g.as_default():\n",
        "  tf.set_random_seed(123)\n",
        "  ## placeholders\n",
        "  tf_x = tf.placeholder(tf.float32 , name = 'tf_x')\n",
        "  tf_y = tf.placeholder(tf.float32 , name = 'tf_y')\n",
        "  \n",
        "  ## define the variable (model parameters)\n",
        "  w = tf.Variable(tf.random_normal(shape = (1,1), stddev = 0.25 ), name = 'w')\n",
        "  b = tf.Variable(0.0, name = 'b')\n",
        "  \n",
        "  ## build the model\n",
        "  y_hat = tf.add( tf_x * w , b, name = 'y_hat')\n",
        "  \n",
        "  ## compute the cost\n",
        "  cost = tf.reduce_mean(tf.square(tf_y - y_hat) , name = 'cost')\n",
        "  \n",
        "  ## train the model\n",
        "  optimizer = tf.train.GradientDescentOptimizer(learning_rate = 0.01)\n",
        "  train_op = optimizer.minimize(cost, name = 'train_op')\n",
        "  \n",
        "  \n",
        "  \n",
        "  \n",
        "  \n",
        "  \n",
        "  "
      ],
      "execution_count": 0,
      "outputs": []
    },
    {
      "metadata": {
        "id": "JCzByYk-xZ73",
        "colab_type": "code",
        "colab": {
          "base_uri": "https://localhost:8080/",
          "height": 347
        },
        "outputId": "89b0ebfe-1965-4646-d6b9-1a9d1b46dc5f"
      },
      "cell_type": "code",
      "source": [
        "import matplotlib.pyplot as plt\n",
        "import numpy as np\n",
        "\n",
        "def make_Random_data():\n",
        "    np.random.seed(100)\n",
        "    x = np.random.uniform(low = -2, high = 4 , size = 200)\n",
        "    y = []\n",
        "    \n",
        "    for t in x:\n",
        "      r = np.random.normal( loc=0.0, scale= (0.5 + t*t/3) , size=None)\n",
        "      y.append(r)\n",
        "    return x,  1.726*x -0.84 + np.array(y)  \n",
        "    \n",
        "x , y =  make_Random_data()\n",
        "\n",
        "plt.plot(x , y ,'o')\n",
        "plt.show()\n",
        "\n",
        " "
      ],
      "execution_count": 41,
      "outputs": [
        {
          "output_type": "display_data",
          "data": {
            "image/png": "[encoded data removed]",
            "text/plain": [
              "<matplotlib.figure.Figure at 0x7f96ff7feba8>"
            ]
          },
          "metadata": {
            "tags": []
          }
        }
      ]
    },
    {
      "metadata": {
        "colab_type": "code",
        "id": "1MbTJOPb3FBY",
        "colab": {
          "base_uri": "https://localhost:8080/",
          "height": 517
        },
        "outputId": "9287b5e8-5ce7-491f-9322-84304c0005fd"
      },
      "cell_type": "code",
      "source": [
        "## split train and tests\n",
        "\n",
        "x_train , y_train = x[:100] , y[:100]\n",
        "x_test , y_test = x[100:] , y[100:]\n",
        "n_epoch = 500\n",
        "\n",
        "with tf.Session(graph = g) as sess:\n",
        "  sess.run(tf.global_variables_initializer())\n",
        "  \n",
        "  training_cost = []\n",
        "  for e in range(n_epoch):\n",
        "    c,_ = sess.run( [ cost , train_op], feed_dict = { tf_x : x_train , tf_y : y_train} )\n",
        "    training_cost.append(c)\n",
        "    if not e% 50:\n",
        "      print('Epoch: %4d : %.4f' % (e, c))\n",
        "      \n",
        "      \n",
        "  plt.plot(training_cost)\n",
        "  plt.show()\n",
        "   \n",
        "    \n",
        "    \n",
        "\n",
        "  "
      ],
      "execution_count": 40,
      "outputs": [
        {
          "output_type": "stream",
          "text": [
            "Epoch:    0 : 15.4777\n",
            "Epoch:   50 : 0.7947\n",
            "Epoch:  100 : 0.5758\n",
            "Epoch:  150 : 0.5364\n",
            "Epoch:  200 : 0.5290\n",
            "Epoch:  250 : 0.5276\n",
            "Epoch:  300 : 0.5273\n",
            "Epoch:  350 : 0.5273\n",
            "Epoch:  400 : 0.5273\n",
            "Epoch:  450 : 0.5273\n"
          ],
          "name": "stdout"
        },
        {
          "output_type": "display_data",
          "data": {
            "image/png": "[encoded data removed]",
            "text/plain": [
              "<matplotlib.figure.Figure at 0x7f96eced5da0>"
            ]
          },
          "metadata": {
            "tags": []
          }
        }
      ]
    }
  ]
}